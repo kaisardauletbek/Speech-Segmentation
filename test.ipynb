{
 "cells": [
  {
   "cell_type": "code",
   "execution_count": 11,
   "metadata": {},
   "outputs": [],
   "source": [
    "from funasr_onnx import Fsmn_vad\n",
    "import librosa\n",
    "import numpy as np\n",
    "import IPython.display as ipd\n",
    "import glob\n",
    "from pydub import AudioSegment\n",
    "import os"
   ]
  },
  {
   "cell_type": "code",
   "execution_count": 5,
   "metadata": {},
   "outputs": [],
   "source": [
    "M_PATH_TO_AUDIO = '/raid/kaisar_dauletbek/datasets/Voice_Conversion/voice_male/'\n",
    "F_PATH_TO_AUDIO = '/raid/kaisar_dauletbek/datasets/Voice_Conversion/voice_female/'\n",
    "# audios_list = glob.glob(PATH_TO_AUDIO + '*.wav')\n",
    "# long_audios = [audio for audio in audios_list if librosa.get_duration(path=audio) > 30]"
   ]
  },
  {
   "cell_type": "code",
   "execution_count": 19,
   "metadata": {},
   "outputs": [],
   "source": [
    "f_voices_to_check = open(\"f_voices_to_check_edited.txt\", \"r\")\n",
    "m_voices_to_check = open(\"m_voices_to_check_edited.txt\", \"r\")\n",
    "\n",
    "f_voices_to_check = f_voices_to_check.readlines()\n",
    "f_voices_to_check = [F_PATH_TO_AUDIO + line.strip() + '.wav' for line in f_voices_to_check]\n",
    "\n",
    "m_voices_to_check = m_voices_to_check.readlines()\n",
    "m_voices_to_check = [M_PATH_TO_AUDIO + line.strip() + '.wav' for line in m_voices_to_check]\n",
    "\n",
    "m_voices_to_check = m_voices_to_check[:20]\n",
    "f_voices_to_check = f_voices_to_check[:20]"
   ]
  },
  {
   "cell_type": "code",
   "execution_count": 21,
   "metadata": {},
   "outputs": [],
   "source": [
    "def segment_audio(input_file, intervals):\n",
    "    file_name = input_file.split(\"/\")[-1]\n",
    "    examples_dir = \"/raid/kaisar_dauletbek/segment_speech/examples_fsmn\"\n",
    "    os.mkdir(f\"{examples_dir}/{file_name}\")\n",
    "    audio = AudioSegment.from_file(input_file)\n",
    "\n",
    "    for i, (start_time, end_time) in enumerate(intervals):\n",
    "        chunk = audio[start_time:end_time]\n",
    "        chunk.export(f\"{examples_dir}/{file_name}/{i}.wav\", format=\"wav\")\n",
    "\n",
    "def generate_intervals(input_audio, model):\n",
    "    intervals = model(input_audio)\n",
    "    return intervals[0]"
   ]
  },
  {
   "cell_type": "code",
   "execution_count": 22,
   "metadata": {},
   "outputs": [],
   "source": [
    "model_dir = \"./FSMN-VAD\"\n",
    "model = Fsmn_vad(model_dir, quantize=True)"
   ]
  },
  {
   "cell_type": "code",
   "execution_count": 23,
   "metadata": {},
   "outputs": [
    {
     "name": "stdout",
     "output_type": "stream",
     "text": [
      "Processing 0 male audio\n"
     ]
    }
   ],
   "source": [
    "for i, audio in enumerate(m_voices_to_check):\n",
    "    print(f\"Processing {i} male audio\")\n",
    "    intervals = generate_intervals(audio, model)\n",
    "    segment_audio(audio, intervals)\n",
    "\n",
    "for i, audio in enumerate(f_voices_to_check):\n",
    "    print(f\"Processing {i} female audio\")\n",
    "    intervals = generate_intervals(audio, model)\n",
    "    segment_audio(audio, intervals)"
   ]
  },
  {
   "cell_type": "code",
   "execution_count": null,
   "metadata": {},
   "outputs": [],
   "source": []
  },
  {
   "cell_type": "code",
   "execution_count": null,
   "metadata": {},
   "outputs": [],
   "source": []
  }
 ],
 "metadata": {
  "kernelspec": {
   "display_name": "nlp",
   "language": "python",
   "name": "python3"
  },
  "language_info": {
   "codemirror_mode": {
    "name": "ipython",
    "version": 3
   },
   "file_extension": ".py",
   "mimetype": "text/x-python",
   "name": "python",
   "nbconvert_exporter": "python",
   "pygments_lexer": "ipython3",
   "version": "3.10.4"
  },
  "orig_nbformat": 4
 },
 "nbformat": 4,
 "nbformat_minor": 2
}
